{
  "nbformat": 4,
  "nbformat_minor": 0,
  "metadata": {
    "colab": {
      "provenance": []
    },
    "kernelspec": {
      "name": "python3",
      "display_name": "Python 3"
    },
    "language_info": {
      "name": "python"
    }
  },
  "cells": [
    {
      "cell_type": "markdown",
      "source": [
        "# **Como usar NLTK en Google Colab**"
      ],
      "metadata": {
        "id": "tjsSfY7qNawY"
      }
    },
    {
      "cell_type": "code",
      "execution_count": 2,
      "metadata": {
        "colab": {
          "base_uri": "https://localhost:8080/"
        },
        "id": "0bumOT0-NY68",
        "outputId": "c50abe0a-4834-4629-d9e8-989c51f23f75"
      },
      "outputs": [
        {
          "output_type": "stream",
          "name": "stderr",
          "text": [
            "[nltk_data] Downloading package cess_esp to /root/nltk_data...\n",
            "[nltk_data]   Unzipping corpora/cess_esp.zip.\n"
          ]
        },
        {
          "output_type": "execute_result",
          "data": {
            "text/plain": [
              "True"
            ]
          },
          "metadata": {},
          "execution_count": 2
        }
      ],
      "source": [
        "import nltk\n",
        "\n",
        "nltk.download('cess_esp')"
      ]
    },
    {
      "cell_type": "markdown",
      "source": [
        "# **Expresiones Regulares**\n",
        "\n",
        "\n",
        "*   Constituyen un lenguaje estandarizado para definir cadenas de búsqueda de texto.\n",
        "*   Libreria de operaciones con  expresiones regulares de Python [re](https://docs.python.org/3/library/re.html)\n",
        "*   Reglas para escribir expresiones regulares [Wiki](https://es.wikipedia.org/wiki/Expresión_regular)"
      ],
      "metadata": {
        "id": "4QNrxeyONl3F"
      }
    },
    {
      "cell_type": "code",
      "source": [
        "import re\n",
        "\n",
        "corpus = nltk.corpus.cess_esp.sents()\n",
        "print(corpus)"
      ],
      "metadata": {
        "colab": {
          "base_uri": "https://localhost:8080/"
        },
        "id": "cNWMeuUANjUf",
        "outputId": "ebdb8f12-42b0-4ba0-a222-90494e5d4f61"
      },
      "execution_count": 3,
      "outputs": [
        {
          "output_type": "stream",
          "name": "stdout",
          "text": [
            "[['El', 'grupo', 'estatal', 'Electricité_de_France', '-Fpa-', 'EDF', '-Fpt-', 'anunció', 'hoy', ',', 'jueves', ',', 'la', 'compra', 'del', '51_por_ciento', 'de', 'la', 'empresa', 'mexicana', 'Electricidad_Águila_de_Altamira', '-Fpa-', 'EAA', '-Fpt-', ',', 'creada', 'por', 'el', 'japonés', 'Mitsubishi_Corporation', 'para', 'poner_en_marcha', 'una', 'central', 'de', 'gas', 'de', '495', 'megavatios', '.'], ['Una', 'portavoz', 'de', 'EDF', 'explicó', 'a', 'EFE', 'que', 'el', 'proyecto', 'para', 'la', 'construcción', 'de', 'Altamira_2', ',', 'al', 'norte', 'de', 'Tampico', ',', 'prevé', 'la', 'utilización', 'de', 'gas', 'natural', 'como', 'combustible', 'principal', 'en', 'una', 'central', 'de', 'ciclo', 'combinado', 'que', 'debe', 'empezar', 'a', 'funcionar', 'en', 'mayo_del_2002', '.'], ...]\n"
          ]
        }
      ]
    },
    {
      "cell_type": "code",
      "source": [
        "len(corpus)"
      ],
      "metadata": {
        "colab": {
          "base_uri": "https://localhost:8080/"
        },
        "id": "G0lZsPVPPx4P",
        "outputId": "a54839c3-6209-47a0-bebb-0aa81df7e7e7"
      },
      "execution_count": 4,
      "outputs": [
        {
          "output_type": "execute_result",
          "data": {
            "text/plain": [
              "6030"
            ]
          },
          "metadata": {},
          "execution_count": 4
        }
      ]
    },
    {
      "cell_type": "code",
      "source": [
        "flatten = [w for l in corpus for w in l]\n",
        "print(len(flatten))"
      ],
      "metadata": {
        "colab": {
          "base_uri": "https://localhost:8080/"
        },
        "id": "bdHY_UbCQDHu",
        "outputId": "039d294d-cc28-4c1b-b51b-4391e4c14a87"
      },
      "execution_count": 5,
      "outputs": [
        {
          "output_type": "stream",
          "name": "stdout",
          "text": [
            "192686\n"
          ]
        }
      ]
    },
    {
      "cell_type": "code",
      "source": [
        "print(flatten[:100])"
      ],
      "metadata": {
        "colab": {
          "base_uri": "https://localhost:8080/"
        },
        "id": "8QVTj571QwNd",
        "outputId": "51c9b7d8-d332-44f9-9f53-d935ec6e57f6"
      },
      "execution_count": 8,
      "outputs": [
        {
          "output_type": "stream",
          "name": "stdout",
          "text": [
            "['El', 'grupo', 'estatal', 'Electricité_de_France', '-Fpa-', 'EDF', '-Fpt-', 'anunció', 'hoy', ',', 'jueves', ',', 'la', 'compra', 'del', '51_por_ciento', 'de', 'la', 'empresa', 'mexicana', 'Electricidad_Águila_de_Altamira', '-Fpa-', 'EAA', '-Fpt-', ',', 'creada', 'por', 'el', 'japonés', 'Mitsubishi_Corporation', 'para', 'poner_en_marcha', 'una', 'central', 'de', 'gas', 'de', '495', 'megavatios', '.', 'Una', 'portavoz', 'de', 'EDF', 'explicó', 'a', 'EFE', 'que', 'el', 'proyecto', 'para', 'la', 'construcción', 'de', 'Altamira_2', ',', 'al', 'norte', 'de', 'Tampico', ',', 'prevé', 'la', 'utilización', 'de', 'gas', 'natural', 'como', 'combustible', 'principal', 'en', 'una', 'central', 'de', 'ciclo', 'combinado', 'que', 'debe', 'empezar', 'a', 'funcionar', 'en', 'mayo_del_2002', '.', 'La', 'electricidad', 'producida', 'pasará', 'a', 'la', 'red', 'eléctrica', 'pública', 'de', 'México', 'en_virtud_de', 'un', 'acuerdo', 'de', 'venta']\n"
          ]
        }
      ]
    },
    {
      "cell_type": "markdown",
      "source": [
        "## **Estructura de la función re.search()**\n",
        "\n",
        "Determina si el patron de búsqueda p está contenido en la cadena s\n",
        "\n",
        "re.search(p, s)"
      ],
      "metadata": {
        "id": "Ii8DccVbS8Sr"
      }
    },
    {
      "cell_type": "code",
      "source": [
        "arr = [w for w in flatten if re.search('es', w)]\n",
        "print(arr[:5])"
      ],
      "metadata": {
        "colab": {
          "base_uri": "https://localhost:8080/"
        },
        "id": "Y8BFr0laQ78t",
        "outputId": "9abd79c5-3bb0-405e-b638-97dd8ef59904"
      },
      "execution_count": 14,
      "outputs": [
        {
          "output_type": "stream",
          "name": "stdout",
          "text": [
            "['estatal', 'jueves', 'empresa', 'centrales', 'francesa']\n"
          ]
        }
      ]
    },
    {
      "cell_type": "code",
      "source": [
        "arr = [w for w in flatten if re.search('es$', w)]\n",
        "print(arr[:5])"
      ],
      "metadata": {
        "colab": {
          "base_uri": "https://localhost:8080/"
        },
        "id": "bzk7vOsSTLg8",
        "outputId": "029632e6-1726-4af1-cc03-7a66641eef66"
      },
      "execution_count": 15,
      "outputs": [
        {
          "output_type": "stream",
          "name": "stdout",
          "text": [
            "['jueves', 'centrales', 'millones', 'millones', 'dólares']\n"
          ]
        }
      ]
    },
    {
      "cell_type": "code",
      "source": [
        "arr = [w for w in flatten if re.search('^es', w)]\n",
        "print(arr[:5])"
      ],
      "metadata": {
        "colab": {
          "base_uri": "https://localhost:8080/"
        },
        "id": "3MmlU5QXVVPM",
        "outputId": "c11d7e29-6a12-4e22-e8eb-127bad41712c"
      },
      "execution_count": 16,
      "outputs": [
        {
          "output_type": "stream",
          "name": "stdout",
          "text": [
            "['estatal', 'es', 'esta', 'esta', 'eso']\n"
          ]
        }
      ]
    },
    {
      "cell_type": "code",
      "source": [
        "# Rango [a-z] [ghi]\n",
        "\n",
        "arr = [w for w in flatten if re.search('^[hgi]', w)]\n",
        "print(arr[:10])"
      ],
      "metadata": {
        "colab": {
          "base_uri": "https://localhost:8080/"
        },
        "id": "Oo000P-vVh1r",
        "outputId": "1880a2e8-707f-4393-96ed-422d22986559"
      },
      "execution_count": 18,
      "outputs": [
        {
          "output_type": "stream",
          "name": "stdout",
          "text": [
            "['grupo', 'hoy', 'gas', 'gas', 'intervendrá', 'invertir', 'gas', 'hoy', 'insulto', 'intervención']\n"
          ]
        }
      ]
    },
    {
      "cell_type": "code",
      "source": [
        "# Clausura\n",
        "# * la cadena de texto se puede repetir cero o más veces\n",
        "# + repetir 1 ó más veces\n",
        "\n",
        "arr = [w for w in flatten if re.search('^(no)*', w)]\n",
        "print(arr[:20])\n"
      ],
      "metadata": {
        "colab": {
          "base_uri": "https://localhost:8080/"
        },
        "id": "sxrsXTIVV07i",
        "outputId": "3b1efbb5-0225-45c4-9409-6bd441759ddf"
      },
      "execution_count": 19,
      "outputs": [
        {
          "output_type": "stream",
          "name": "stdout",
          "text": [
            "['El', 'grupo', 'estatal', 'Electricité_de_France', '-Fpa-', 'EDF', '-Fpt-', 'anunció', 'hoy', ',', 'jueves', ',', 'la', 'compra', 'del', '51_por_ciento', 'de', 'la', 'empresa', 'mexicana']\n"
          ]
        }
      ]
    },
    {
      "cell_type": "code",
      "source": [
        "arr = [w for w in flatten if re.search('^(no)+', w)]\n",
        "print(arr[:20])"
      ],
      "metadata": {
        "colab": {
          "base_uri": "https://localhost:8080/"
        },
        "id": "u_8hkJ1ZWckz",
        "outputId": "d7704aaf-6615-4372-94fd-dc5c045686c2"
      },
      "execution_count": 21,
      "outputs": [
        {
          "output_type": "stream",
          "name": "stdout",
          "text": [
            "['norte', 'no', 'no', 'noche', 'no', 'no', 'notificación', 'no', 'no', 'no', 'no_obstante', 'no', 'no', 'no', 'norte', 'no', 'no', 'no', 'no', 'norteamericano']\n"
          ]
        }
      ]
    },
    {
      "cell_type": "markdown",
      "source": [
        "# **Normalización de Texto** (como aplicación de las expresiones regulares)"
      ],
      "metadata": {
        "id": "qqA0Z_dMYQHT"
      }
    },
    {
      "cell_type": "code",
      "source": [
        "# raw (texto plano)\n",
        "print('esta es \\n una prueba\\n')\n",
        "print(r'esta es \\n una prueba\\n')\n"
      ],
      "metadata": {
        "colab": {
          "base_uri": "https://localhost:8080/"
        },
        "id": "alfDPA9BWl3x",
        "outputId": "9faa661f-719b-407b-ac19-83ca6e15760a"
      },
      "execution_count": 23,
      "outputs": [
        {
          "output_type": "stream",
          "name": "stdout",
          "text": [
            "esta es \n",
            " una prueba\n",
            "\n",
            "esta es \\n una prueba\\n\n"
          ]
        }
      ]
    },
    {
      "cell_type": "markdown",
      "source": [
        "## **Tokenización:** Es el proceso mediante el cual se sub-divide una cadena de texto en unidades linguísticas mínimas (palabras)"
      ],
      "metadata": {
        "id": "kApY5VeMYYVd"
      }
    },
    {
      "cell_type": "code",
      "source": [
        "texto = \"\"\" Cuando sea el rey del mundo (imaginaba él en su cabeza) no tendré que preocuparme por estas bobadas. \n",
        "            Era sol un niño de 7 años, pero pensaba que podría ser cualquier cosa que su imaginación le permitiera\n",
        "            visualizar en su cabeza ...\"\"\""
      ],
      "metadata": {
        "id": "fFFB6ww7Yiqo"
      },
      "execution_count": 26,
      "outputs": []
    },
    {
      "cell_type": "code",
      "source": [
        "texto"
      ],
      "metadata": {
        "colab": {
          "base_uri": "https://localhost:8080/",
          "height": 53
        },
        "id": "mkwahYWKZQEw",
        "outputId": "95d005e8-f746-47e4-88f2-8bea00ade3a7"
      },
      "execution_count": 27,
      "outputs": [
        {
          "output_type": "execute_result",
          "data": {
            "text/plain": [
              "' Cuando sea el rey del mundo (imaginaba él en su cabeza) no tendré que preocuparme por estas bobadas. \\n            Era sol un niño de 7 años, pero pensaba que podría ser cualquier cosa que su imaginación le permitiera\\n            visualizar en su cabeza ...'"
            ],
            "application/vnd.google.colaboratory.intrinsic+json": {
              "type": "string"
            }
          },
          "metadata": {},
          "execution_count": 27
        }
      ]
    },
    {
      "cell_type": "code",
      "source": [
        "print(texto)"
      ],
      "metadata": {
        "colab": {
          "base_uri": "https://localhost:8080/"
        },
        "id": "y3QcmhIjZcay",
        "outputId": "941ef901-d13e-4bb2-86ed-38f225fd1b15"
      },
      "execution_count": 28,
      "outputs": [
        {
          "output_type": "stream",
          "name": "stdout",
          "text": [
            " Cuando sea el rey del mundo (imaginaba él en su cabeza) no tendré que preocuparme por estas bobadas. \n",
            "            Era sol un niño de 7 años, pero pensaba que podría ser cualquier cosa que su imaginación le permitiera\n",
            "            visualizar en su cabeza ...\n"
          ]
        }
      ]
    },
    {
      "cell_type": "code",
      "source": [
        "# Caso 1: tokenizar por espacios vacíos\n",
        "\n",
        "print(re.split(r' ',texto))"
      ],
      "metadata": {
        "colab": {
          "base_uri": "https://localhost:8080/"
        },
        "id": "ke7YCm-EZeDA",
        "outputId": "84ba11d2-cee6-4b19-d506-7ea725b1e018"
      },
      "execution_count": 30,
      "outputs": [
        {
          "output_type": "stream",
          "name": "stdout",
          "text": [
            "['', 'Cuando', 'sea', 'el', 'rey', 'del', 'mundo', '(imaginaba', 'él', 'en', 'su', 'cabeza)', 'no', 'tendré', 'que', 'preocuparme', 'por', 'estas', 'bobadas.', '\\n', '', '', '', '', '', '', '', '', '', '', '', 'Era', 'sol', 'un', 'niño', 'de', '7', 'años,', 'pero', 'pensaba', 'que', 'podría', 'ser', 'cualquier', 'cosa', 'que', 'su', 'imaginación', 'le', 'permitiera\\n', '', '', '', '', '', '', '', '', '', '', '', 'visualizar', 'en', 'su', 'cabeza', '...']\n"
          ]
        }
      ]
    },
    {
      "cell_type": "code",
      "source": [
        "# Caso 2: tokenización usando regex\n",
        "\n",
        "print(re.split(r'[ \\t\\n]+',texto))"
      ],
      "metadata": {
        "colab": {
          "base_uri": "https://localhost:8080/"
        },
        "id": "KMJO3jYYZ7nH",
        "outputId": "8edeeea5-15fe-479d-b667-00bf8117b26e"
      },
      "execution_count": 31,
      "outputs": [
        {
          "output_type": "stream",
          "name": "stdout",
          "text": [
            "['', 'Cuando', 'sea', 'el', 'rey', 'del', 'mundo', '(imaginaba', 'él', 'en', 'su', 'cabeza)', 'no', 'tendré', 'que', 'preocuparme', 'por', 'estas', 'bobadas.', 'Era', 'sol', 'un', 'niño', 'de', '7', 'años,', 'pero', 'pensaba', 'que', 'podría', 'ser', 'cualquier', 'cosa', 'que', 'su', 'imaginación', 'le', 'permitiera', 'visualizar', 'en', 'su', 'cabeza', '...']\n"
          ]
        }
      ]
    },
    {
      "cell_type": "code",
      "source": [
        "# Caso 3: \n",
        "print(re.split(r'[ \\W\\t\\n]+',texto))"
      ],
      "metadata": {
        "colab": {
          "base_uri": "https://localhost:8080/"
        },
        "id": "5X2OGrYAajxu",
        "outputId": "3e9b3a7e-6279-4446-ddab-e763fbdd87f4"
      },
      "execution_count": 32,
      "outputs": [
        {
          "output_type": "stream",
          "name": "stdout",
          "text": [
            "['', 'Cuando', 'sea', 'el', 'rey', 'del', 'mundo', 'imaginaba', 'él', 'en', 'su', 'cabeza', 'no', 'tendré', 'que', 'preocuparme', 'por', 'estas', 'bobadas', 'Era', 'sol', 'un', 'niño', 'de', '7', 'años', 'pero', 'pensaba', 'que', 'podría', 'ser', 'cualquier', 'cosa', 'que', 'su', 'imaginación', 'le', 'permitiera', 'visualizar', 'en', 'su', 'cabeza', '']\n"
          ]
        }
      ]
    },
    {
      "cell_type": "markdown",
      "source": [
        "## **Tokenizador de NLTK**"
      ],
      "metadata": {
        "id": "j89uTwJ8bJMs"
      }
    },
    {
      "cell_type": "code",
      "source": [
        "texto = 'En los E.U. esa postal vale $15.50 ...'\n",
        "print(re.split(r'[ \\W\\t\\n]+',texto))"
      ],
      "metadata": {
        "colab": {
          "base_uri": "https://localhost:8080/"
        },
        "id": "h5MBOeombBuW",
        "outputId": "c80b045d-d9e1-4e99-c510-5d82f7c83667"
      },
      "execution_count": 33,
      "outputs": [
        {
          "output_type": "stream",
          "name": "stdout",
          "text": [
            "['En', 'los', 'E', 'U', 'esa', 'postal', 'vale', '15', '50', '']\n"
          ]
        }
      ]
    },
    {
      "cell_type": "code",
      "source": [
        "pattern = r'''(?x)                 # set flag to allow verbose regexps\n",
        "              (?:[A-Z]\\.)+         # abbreviations, e.g. U.S.A.\n",
        "              | \\w+(?:-\\w+)*       # words with optional internal hyphens\n",
        "              | \\$?\\d+(?:\\.\\d+)?%? # currency and percentages, e.g. $12.40, 82%\n",
        "              | \\.\\.\\.             # ellipsis\n",
        "              | [][.,;\"'?():-_`]   # these are separate tokens; includes ], [\n",
        "'''\n",
        "nltk.regexp_tokenize(texto, pattern)"
      ],
      "metadata": {
        "colab": {
          "base_uri": "https://localhost:8080/"
        },
        "id": "kFKs7yYEbdSG",
        "outputId": "2c9a5a2b-3bf7-4fc9-ed13-bc0e6d3da14b"
      },
      "execution_count": 34,
      "outputs": [
        {
          "output_type": "execute_result",
          "data": {
            "text/plain": [
              "['En', 'los', 'E.U.', 'esa', 'postal', 'vale', '$15.50', '...']"
            ]
          },
          "metadata": {},
          "execution_count": 34
        }
      ]
    },
    {
      "cell_type": "markdown",
      "source": [
        "## **Lematización:** Proceso para encontrar la raíz linguística de una palabra\n",
        "\n",
        "*   Derivación (stemming) : lematización simple"
      ],
      "metadata": {
        "id": "4Kl5xucFe8i3"
      }
    },
    {
      "cell_type": "code",
      "source": [
        "# Derivación simple\n",
        "from nltk import word_tokenize\n",
        "from nltk.stem.snowball import SnowballStemmer\n",
        "\n",
        "SnowballStemmer.languages"
      ],
      "metadata": {
        "colab": {
          "base_uri": "https://localhost:8080/"
        },
        "id": "LyZaRfpcb0wV",
        "outputId": "e20aecc1-9729-452f-f733-6636f1b30067"
      },
      "execution_count": 35,
      "outputs": [
        {
          "output_type": "execute_result",
          "data": {
            "text/plain": [
              "('arabic',\n",
              " 'danish',\n",
              " 'dutch',\n",
              " 'english',\n",
              " 'finnish',\n",
              " 'french',\n",
              " 'german',\n",
              " 'hungarian',\n",
              " 'italian',\n",
              " 'norwegian',\n",
              " 'porter',\n",
              " 'portuguese',\n",
              " 'romanian',\n",
              " 'russian',\n",
              " 'spanish',\n",
              " 'swedish')"
            ]
          },
          "metadata": {},
          "execution_count": 35
        }
      ]
    },
    {
      "cell_type": "code",
      "source": [
        "stem = SnowballStemmer('spanish')\n",
        "stem.stem('trabajando')"
      ],
      "metadata": {
        "colab": {
          "base_uri": "https://localhost:8080/",
          "height": 35
        },
        "id": "LbWxCH_nfeP3",
        "outputId": "b5ab5fdc-fb6b-4ed3-8210-be1c46c7b188"
      },
      "execution_count": 36,
      "outputs": [
        {
          "output_type": "execute_result",
          "data": {
            "text/plain": [
              "'trabaj'"
            ],
            "application/vnd.google.colaboratory.intrinsic+json": {
              "type": "string"
            }
          },
          "metadata": {},
          "execution_count": 36
        }
      ]
    },
    {
      "cell_type": "code",
      "source": [
        "# Lematización\n",
        "from nltk.stem import WordNetLemmatizer\n",
        "import nltk\n",
        "nltk.download('wordnet')\n",
        "import nltk\n",
        "nltk.download('omw-1.4')\n",
        "\n",
        "lemm = WordNetLemmatizer()\n",
        "lemm.lemmatize('trabajando')"
      ],
      "metadata": {
        "colab": {
          "base_uri": "https://localhost:8080/",
          "height": 87
        },
        "id": "85V9GyzbflrV",
        "outputId": "c2a926dc-6179-49b9-dd19-4444cdcb0226"
      },
      "execution_count": 40,
      "outputs": [
        {
          "output_type": "stream",
          "name": "stderr",
          "text": [
            "[nltk_data] Downloading package wordnet to /root/nltk_data...\n",
            "[nltk_data]   Package wordnet is already up-to-date!\n",
            "[nltk_data] Downloading package omw-1.4 to /root/nltk_data...\n"
          ]
        },
        {
          "output_type": "execute_result",
          "data": {
            "text/plain": [
              "'trabajando'"
            ],
            "application/vnd.google.colaboratory.intrinsic+json": {
              "type": "string"
            }
          },
          "metadata": {},
          "execution_count": 40
        }
      ]
    },
    {
      "cell_type": "code",
      "source": [],
      "metadata": {
        "id": "48LOIvFafpQ6"
      },
      "execution_count": null,
      "outputs": []
    }
  ]
}